{
 "cells": [
  {
   "cell_type": "markdown",
   "metadata": {
    "colab_type": "text",
    "id": "uMe5nI3qQSCl"
   },
   "source": [
    "# Traing script to create recommendation system"
   ]
  },
  {
   "cell_type": "markdown",
   "metadata": {
    "colab_type": "text",
    "id": "IOA0ikSfQSCr"
   },
   "source": [
    "# 1. Prepare necessary things."
   ]
  },
  {
   "cell_type": "markdown",
   "metadata": {
    "colab_type": "text",
    "id": "A_WxtafmQSCu"
   },
   "source": [
    "## Import libraries"
   ]
  },
  {
   "cell_type": "code",
   "execution_count": 1,
   "metadata": {
    "colab": {},
    "colab_type": "code",
    "id": "ATM9fGZYQSCz"
   },
   "outputs": [],
   "source": [
    "# Data analyze\n",
    "import numpy as np\n",
    "import pandas as pd\n",
    "import seaborn as sns\n",
    "import matplotlib.pyplot as plt\n",
    "\n",
    "# Train test split\n",
    "from sklearn.model_selection import train_test_split\n",
    "\n",
    "# tensorflow.keras\n",
    "import tensorflow as tf\n",
    "import tensorflow.keras.metrics\n",
    "from tensorflow.keras.layers import Input, Embedding, Concatenate, Dense, Flatten, Dot\n",
    "from tensorflow.keras.models import Model\n",
    "from tensorflow.keras.optimizers import Adam\n",
    "from tensorflow.keras.regularizers import l2\n",
    "\n",
    "# Pickle\n",
    "import pickle\n",
    "\n",
    "# Datetime\n",
    "from datetime import datetime\n",
    "\n",
    "# Ignore warning\n",
    "import warnings\n",
    "warnings.filterwarnings(\"ignore\")"
   ]
  },
  {
   "cell_type": "markdown",
   "metadata": {
    "colab_type": "text",
    "id": "6E1OqDuyQSDD"
   },
   "source": [
    "## Define hyperparameters"
   ]
  },
  {
   "cell_type": "code",
   "execution_count": 2,
   "metadata": {
    "colab": {},
    "colab_type": "code",
    "id": "E_l7uhErQSDG"
   },
   "outputs": [],
   "source": [
    "POOR_SERVICE_THRESHOLD = 20 # Service with momo transactions less than this threshold will be droped\n",
    "\n",
    "MONEY_RANGE_DIVIDER = 100000 # VND divide by range of 100k\n",
    "MONEY_RANGE_RICHKID = 5 # People who spent more than this range will be considered as rich kids and be grouped\n",
    "\n",
    "VISIT_COUNT_MAX = 5 # Visit more than or equal <max> time(s) will be consider as fan ^^\n",
    "VISIT_COUNT_MIN = 1 # Visit less than or equal <min> time(s) will not be considered and be droped\n",
    "\n",
    "TRAIN_TRIGGER = True # Turn off this trigger if you dont want to run the training process\n",
    "TRAIN_TEST_SIZE = 0.3\n",
    "TRAIN_EPOCHS = 1\n",
    "TRAIN_RANDOM_STATE = 1987"
   ]
  },
  {
   "cell_type": "markdown",
   "metadata": {
    "colab_type": "text",
    "id": "2bosYBxNQSFI"
   },
   "source": [
    "# 3. Create model and training"
   ]
  },
  {
   "cell_type": "code",
   "execution_count": 3,
   "metadata": {},
   "outputs": [],
   "source": [
    "data = pd.read_csv(\"./data/transactions2train.csv\", index_col=0)"
   ]
  },
  {
   "cell_type": "code",
   "execution_count": 4,
   "metadata": {
    "scrolled": false
   },
   "outputs": [
    {
     "data": {
      "text/html": [
       "<div>\n",
       "<style scoped>\n",
       "    .dataframe tbody tr th:only-of-type {\n",
       "        vertical-align: middle;\n",
       "    }\n",
       "\n",
       "    .dataframe tbody tr th {\n",
       "        vertical-align: top;\n",
       "    }\n",
       "\n",
       "    .dataframe thead th {\n",
       "        text-align: right;\n",
       "    }\n",
       "</style>\n",
       "<table border=\"1\" class=\"dataframe\">\n",
       "  <thead>\n",
       "    <tr style=\"text-align: right;\">\n",
       "      <th></th>\n",
       "      <th>user_id</th>\n",
       "      <th>service_id</th>\n",
       "      <th>amount</th>\n",
       "      <th>visit_count</th>\n",
       "      <th>total_amount</th>\n",
       "      <th>favor</th>\n",
       "      <th>service_group</th>\n",
       "    </tr>\n",
       "  </thead>\n",
       "  <tbody>\n",
       "    <tr>\n",
       "      <td>0</td>\n",
       "      <td>1000121902738565702</td>\n",
       "      <td>6624136956482465650</td>\n",
       "      <td>385000</td>\n",
       "      <td>1</td>\n",
       "      <td>586000</td>\n",
       "      <td>0.656997</td>\n",
       "      <td>fnb</td>\n",
       "    </tr>\n",
       "    <tr>\n",
       "      <td>1</td>\n",
       "      <td>1000121902738565702</td>\n",
       "      <td>7241075282237721387</td>\n",
       "      <td>67000</td>\n",
       "      <td>1</td>\n",
       "      <td>586000</td>\n",
       "      <td>0.114334</td>\n",
       "      <td>cvs</td>\n",
       "    </tr>\n",
       "    <tr>\n",
       "      <td>2</td>\n",
       "      <td>1000121902738565702</td>\n",
       "      <td>922770840377832605</td>\n",
       "      <td>134000</td>\n",
       "      <td>1</td>\n",
       "      <td>586000</td>\n",
       "      <td>0.228669</td>\n",
       "      <td>food</td>\n",
       "    </tr>\n",
       "    <tr>\n",
       "      <td>3</td>\n",
       "      <td>1000125153834388186</td>\n",
       "      <td>4696475929912495191</td>\n",
       "      <td>1133000</td>\n",
       "      <td>1</td>\n",
       "      <td>1725000</td>\n",
       "      <td>0.656812</td>\n",
       "      <td>fnb</td>\n",
       "    </tr>\n",
       "    <tr>\n",
       "      <td>4</td>\n",
       "      <td>1000125153834388186</td>\n",
       "      <td>7435641053063427914</td>\n",
       "      <td>75000</td>\n",
       "      <td>1</td>\n",
       "      <td>1725000</td>\n",
       "      <td>0.043478</td>\n",
       "      <td>cvs</td>\n",
       "    </tr>\n",
       "  </tbody>\n",
       "</table>\n",
       "</div>"
      ],
      "text/plain": [
       "               user_id           service_id   amount  visit_count  \\\n",
       "0  1000121902738565702  6624136956482465650   385000            1   \n",
       "1  1000121902738565702  7241075282237721387    67000            1   \n",
       "2  1000121902738565702   922770840377832605   134000            1   \n",
       "3  1000125153834388186  4696475929912495191  1133000            1   \n",
       "4  1000125153834388186  7435641053063427914    75000            1   \n",
       "\n",
       "   total_amount     favor service_group  \n",
       "0        586000  0.656997           fnb  \n",
       "1        586000  0.114334           cvs  \n",
       "2        586000  0.228669          food  \n",
       "3       1725000  0.656812           fnb  \n",
       "4       1725000  0.043478           cvs  "
      ]
     },
     "execution_count": 4,
     "metadata": {},
     "output_type": "execute_result"
    }
   ],
   "source": [
    "data.head()"
   ]
  },
  {
   "cell_type": "code",
   "execution_count": 5,
   "metadata": {
    "scrolled": true
   },
   "outputs": [
    {
     "data": {
      "text/html": [
       "<div>\n",
       "<style scoped>\n",
       "    .dataframe tbody tr th:only-of-type {\n",
       "        vertical-align: middle;\n",
       "    }\n",
       "\n",
       "    .dataframe tbody tr th {\n",
       "        vertical-align: top;\n",
       "    }\n",
       "\n",
       "    .dataframe thead th {\n",
       "        text-align: right;\n",
       "    }\n",
       "</style>\n",
       "<table border=\"1\" class=\"dataframe\">\n",
       "  <thead>\n",
       "    <tr style=\"text-align: right;\">\n",
       "      <th></th>\n",
       "      <th>user_id</th>\n",
       "      <th>service_id</th>\n",
       "      <th>amount</th>\n",
       "      <th>visit_count</th>\n",
       "      <th>favor</th>\n",
       "      <th>service_group</th>\n",
       "      <th>total_amount</th>\n",
       "    </tr>\n",
       "  </thead>\n",
       "  <tbody>\n",
       "    <tr>\n",
       "      <td>0</td>\n",
       "      <td>1000121902738565702</td>\n",
       "      <td>6624136956482465650</td>\n",
       "      <td>385000</td>\n",
       "      <td>1</td>\n",
       "      <td>0.656997</td>\n",
       "      <td>fnb</td>\n",
       "      <td>586000.0</td>\n",
       "    </tr>\n",
       "    <tr>\n",
       "      <td>1</td>\n",
       "      <td>1000121902738565702</td>\n",
       "      <td>7241075282237721387</td>\n",
       "      <td>67000</td>\n",
       "      <td>1</td>\n",
       "      <td>0.114334</td>\n",
       "      <td>cvs</td>\n",
       "      <td>586000.0</td>\n",
       "    </tr>\n",
       "    <tr>\n",
       "      <td>2</td>\n",
       "      <td>1000121902738565702</td>\n",
       "      <td>922770840377832605</td>\n",
       "      <td>134000</td>\n",
       "      <td>1</td>\n",
       "      <td>0.228669</td>\n",
       "      <td>food</td>\n",
       "      <td>586000.0</td>\n",
       "    </tr>\n",
       "    <tr>\n",
       "      <td>3</td>\n",
       "      <td>1000125153834388186</td>\n",
       "      <td>4696475929912495191</td>\n",
       "      <td>1133000</td>\n",
       "      <td>1</td>\n",
       "      <td>0.656812</td>\n",
       "      <td>fnb</td>\n",
       "      <td>1725000.0</td>\n",
       "    </tr>\n",
       "    <tr>\n",
       "      <td>4</td>\n",
       "      <td>1000125153834388186</td>\n",
       "      <td>7435641053063427914</td>\n",
       "      <td>75000</td>\n",
       "      <td>1</td>\n",
       "      <td>0.043478</td>\n",
       "      <td>cvs</td>\n",
       "      <td>1725000.0</td>\n",
       "    </tr>\n",
       "    <tr>\n",
       "      <td>...</td>\n",
       "      <td>...</td>\n",
       "      <td>...</td>\n",
       "      <td>...</td>\n",
       "      <td>...</td>\n",
       "      <td>...</td>\n",
       "      <td>...</td>\n",
       "      <td>...</td>\n",
       "    </tr>\n",
       "    <tr>\n",
       "      <td>724864</td>\n",
       "      <td>999967723811113076</td>\n",
       "      <td>6683159578094575932</td>\n",
       "      <td>176000</td>\n",
       "      <td>1</td>\n",
       "      <td>0.095496</td>\n",
       "      <td>cvs</td>\n",
       "      <td>1843000.0</td>\n",
       "    </tr>\n",
       "    <tr>\n",
       "      <td>724865</td>\n",
       "      <td>999983852027909885</td>\n",
       "      <td>1161222413519607568</td>\n",
       "      <td>164000</td>\n",
       "      <td>1</td>\n",
       "      <td>0.224044</td>\n",
       "      <td>fnb</td>\n",
       "      <td>732000.0</td>\n",
       "    </tr>\n",
       "    <tr>\n",
       "      <td>724866</td>\n",
       "      <td>999983852027909885</td>\n",
       "      <td>1519391066364067495</td>\n",
       "      <td>393000</td>\n",
       "      <td>1</td>\n",
       "      <td>0.536885</td>\n",
       "      <td>fnb</td>\n",
       "      <td>732000.0</td>\n",
       "    </tr>\n",
       "    <tr>\n",
       "      <td>724867</td>\n",
       "      <td>999983852027909885</td>\n",
       "      <td>7217455669218222351</td>\n",
       "      <td>46000</td>\n",
       "      <td>1</td>\n",
       "      <td>0.062842</td>\n",
       "      <td>beverage</td>\n",
       "      <td>732000.0</td>\n",
       "    </tr>\n",
       "    <tr>\n",
       "      <td>724868</td>\n",
       "      <td>999983852027909885</td>\n",
       "      <td>7435641053063427914</td>\n",
       "      <td>129000</td>\n",
       "      <td>1</td>\n",
       "      <td>0.176230</td>\n",
       "      <td>cvs</td>\n",
       "      <td>732000.0</td>\n",
       "    </tr>\n",
       "  </tbody>\n",
       "</table>\n",
       "<p>724869 rows × 7 columns</p>\n",
       "</div>"
      ],
      "text/plain": [
       "                    user_id           service_id   amount  visit_count  \\\n",
       "0       1000121902738565702  6624136956482465650   385000            1   \n",
       "1       1000121902738565702  7241075282237721387    67000            1   \n",
       "2       1000121902738565702   922770840377832605   134000            1   \n",
       "3       1000125153834388186  4696475929912495191  1133000            1   \n",
       "4       1000125153834388186  7435641053063427914    75000            1   \n",
       "...                     ...                  ...      ...          ...   \n",
       "724864   999967723811113076  6683159578094575932   176000            1   \n",
       "724865   999983852027909885  1161222413519607568   164000            1   \n",
       "724866   999983852027909885  1519391066364067495   393000            1   \n",
       "724867   999983852027909885  7217455669218222351    46000            1   \n",
       "724868   999983852027909885  7435641053063427914   129000            1   \n",
       "\n",
       "           favor service_group  total_amount  \n",
       "0       0.656997           fnb      586000.0  \n",
       "1       0.114334           cvs      586000.0  \n",
       "2       0.228669          food      586000.0  \n",
       "3       0.656812           fnb     1725000.0  \n",
       "4       0.043478           cvs     1725000.0  \n",
       "...          ...           ...           ...  \n",
       "724864  0.095496           cvs     1843000.0  \n",
       "724865  0.224044           fnb      732000.0  \n",
       "724866  0.536885           fnb      732000.0  \n",
       "724867  0.062842      beverage      732000.0  \n",
       "724868  0.176230           cvs      732000.0  \n",
       "\n",
       "[724869 rows x 7 columns]"
      ]
     },
     "execution_count": 5,
     "metadata": {},
     "output_type": "execute_result"
    }
   ],
   "source": [
    "# data_food = data[data['service_group'] == 'food']\n",
    "data_food = data\n",
    "data_food = data_food.drop(columns=['total_amount'])\n",
    "df_total_sum = data_food.groupby('user_id', as_index=False).sum()[['user_id', 'amount']]\n",
    "df_total_sum = df_total_sum.rename(columns={'amount':'total_amount'})\n",
    "data_food = data_food.merge(df_total_sum, how='left')\n",
    "data_food['favor'] = data_food['amount'] / data_food['total_amount']\n",
    "data_food"
   ]
  },
  {
   "cell_type": "code",
   "execution_count": 6,
   "metadata": {
    "scrolled": true
   },
   "outputs": [],
   "source": [
    "user_freq = data_food.user_id.value_counts()\n",
    "new_user = user_freq[user_freq < 3].index\n",
    "data_food = data_food[~data_food['user_id'].isin(new_user)]"
   ]
  },
  {
   "cell_type": "code",
   "execution_count": 7,
   "metadata": {},
   "outputs": [
    {
     "data": {
      "text/html": [
       "<div>\n",
       "<style scoped>\n",
       "    .dataframe tbody tr th:only-of-type {\n",
       "        vertical-align: middle;\n",
       "    }\n",
       "\n",
       "    .dataframe tbody tr th {\n",
       "        vertical-align: top;\n",
       "    }\n",
       "\n",
       "    .dataframe thead th {\n",
       "        text-align: right;\n",
       "    }\n",
       "</style>\n",
       "<table border=\"1\" class=\"dataframe\">\n",
       "  <thead>\n",
       "    <tr style=\"text-align: right;\">\n",
       "      <th></th>\n",
       "      <th>user_id</th>\n",
       "      <th>service_id</th>\n",
       "      <th>amount</th>\n",
       "      <th>visit_count</th>\n",
       "      <th>favor</th>\n",
       "      <th>service_group</th>\n",
       "      <th>total_amount</th>\n",
       "    </tr>\n",
       "  </thead>\n",
       "  <tbody>\n",
       "    <tr>\n",
       "      <td>427113</td>\n",
       "      <td>58745366349304396</td>\n",
       "      <td>5658857270301870068</td>\n",
       "      <td>81000</td>\n",
       "      <td>1</td>\n",
       "      <td>0.018746</td>\n",
       "      <td>beverage</td>\n",
       "      <td>4321000.0</td>\n",
       "    </tr>\n",
       "    <tr>\n",
       "      <td>490944</td>\n",
       "      <td>6607650307945901986</td>\n",
       "      <td>4470526277233866905</td>\n",
       "      <td>261000</td>\n",
       "      <td>1</td>\n",
       "      <td>0.229551</td>\n",
       "      <td>fnb</td>\n",
       "      <td>1137000.0</td>\n",
       "    </tr>\n",
       "    <tr>\n",
       "      <td>341240</td>\n",
       "      <td>4889764220252469642</td>\n",
       "      <td>9105773273715501159</td>\n",
       "      <td>234000</td>\n",
       "      <td>2</td>\n",
       "      <td>0.087183</td>\n",
       "      <td>other</td>\n",
       "      <td>2684000.0</td>\n",
       "    </tr>\n",
       "    <tr>\n",
       "      <td>92170</td>\n",
       "      <td>2048649772533853149</td>\n",
       "      <td>7241075282237721387</td>\n",
       "      <td>311000</td>\n",
       "      <td>1</td>\n",
       "      <td>0.071874</td>\n",
       "      <td>cvs</td>\n",
       "      <td>4327000.0</td>\n",
       "    </tr>\n",
       "    <tr>\n",
       "      <td>336554</td>\n",
       "      <td>4836514331076184893</td>\n",
       "      <td>1331731186241134178</td>\n",
       "      <td>1495000</td>\n",
       "      <td>1</td>\n",
       "      <td>0.571483</td>\n",
       "      <td>other</td>\n",
       "      <td>2616000.0</td>\n",
       "    </tr>\n",
       "  </tbody>\n",
       "</table>\n",
       "</div>"
      ],
      "text/plain": [
       "                    user_id           service_id   amount  visit_count  \\\n",
       "427113    58745366349304396  5658857270301870068    81000            1   \n",
       "490944  6607650307945901986  4470526277233866905   261000            1   \n",
       "341240  4889764220252469642  9105773273715501159   234000            2   \n",
       "92170   2048649772533853149  7241075282237721387   311000            1   \n",
       "336554  4836514331076184893  1331731186241134178  1495000            1   \n",
       "\n",
       "           favor service_group  total_amount  \n",
       "427113  0.018746      beverage     4321000.0  \n",
       "490944  0.229551           fnb     1137000.0  \n",
       "341240  0.087183         other     2684000.0  \n",
       "92170   0.071874           cvs     4327000.0  \n",
       "336554  0.571483         other     2616000.0  "
      ]
     },
     "execution_count": 7,
     "metadata": {},
     "output_type": "execute_result"
    }
   ],
   "source": [
    "data_food.sample(5)"
   ]
  },
  {
   "cell_type": "code",
   "execution_count": 8,
   "metadata": {
    "colab": {},
    "colab_type": "code",
    "id": "oCxdr7XJQSFJ"
   },
   "outputs": [],
   "source": [
    "def EmbeddedInput(name, n_in, n_out, reg):\n",
    "    inp = Input(shape=(1,), dtype='int64', name=name)\n",
    "    return (inp, Embedding(n_in+1, n_out, input_length=1, embeddings_regularizer=l2(reg))(inp))"
   ]
  },
  {
   "cell_type": "code",
   "execution_count": 9,
   "metadata": {},
   "outputs": [],
   "source": [
    "# create map to convert from code to id and vice versal\n",
    "usercode2id = data_food['user_id'].astype('category')\n",
    "usercode2id = dict(enumerate(usercode2id.cat.categories))\n",
    "servicecode2id = data_food['service_id'].astype('category')\n",
    "servicecode2id = dict(enumerate(servicecode2id.cat.categories))\n",
    "userid2code = dict(map(reversed, usercode2id.items()))\n",
    "serviceid2code = dict(map(reversed, servicecode2id.items()))\n",
    "\n",
    "# create code columns\n",
    "data_food['user_code'] = data_food['user_id'].astype('category').cat.codes\n",
    "data_food['service_code'] = data_food['service_id'].astype('category').cat.codes"
   ]
  },
  {
   "cell_type": "code",
   "execution_count": 10,
   "metadata": {
    "scrolled": true
   },
   "outputs": [
    {
     "data": {
      "text/html": [
       "<div>\n",
       "<style scoped>\n",
       "    .dataframe tbody tr th:only-of-type {\n",
       "        vertical-align: middle;\n",
       "    }\n",
       "\n",
       "    .dataframe tbody tr th {\n",
       "        vertical-align: top;\n",
       "    }\n",
       "\n",
       "    .dataframe thead th {\n",
       "        text-align: right;\n",
       "    }\n",
       "</style>\n",
       "<table border=\"1\" class=\"dataframe\">\n",
       "  <thead>\n",
       "    <tr style=\"text-align: right;\">\n",
       "      <th></th>\n",
       "      <th>user_id</th>\n",
       "      <th>service_id</th>\n",
       "      <th>amount</th>\n",
       "      <th>visit_count</th>\n",
       "      <th>favor</th>\n",
       "      <th>service_group</th>\n",
       "      <th>total_amount</th>\n",
       "      <th>user_code</th>\n",
       "      <th>service_code</th>\n",
       "    </tr>\n",
       "  </thead>\n",
       "  <tbody>\n",
       "    <tr>\n",
       "      <td>0</td>\n",
       "      <td>1000121902738565702</td>\n",
       "      <td>6624136956482465650</td>\n",
       "      <td>385000</td>\n",
       "      <td>1</td>\n",
       "      <td>0.656997</td>\n",
       "      <td>fnb</td>\n",
       "      <td>586000.0</td>\n",
       "      <td>13290</td>\n",
       "      <td>401</td>\n",
       "    </tr>\n",
       "    <tr>\n",
       "      <td>1</td>\n",
       "      <td>1000121902738565702</td>\n",
       "      <td>7241075282237721387</td>\n",
       "      <td>67000</td>\n",
       "      <td>1</td>\n",
       "      <td>0.114334</td>\n",
       "      <td>cvs</td>\n",
       "      <td>586000.0</td>\n",
       "      <td>13290</td>\n",
       "      <td>440</td>\n",
       "    </tr>\n",
       "    <tr>\n",
       "      <td>2</td>\n",
       "      <td>1000121902738565702</td>\n",
       "      <td>922770840377832605</td>\n",
       "      <td>134000</td>\n",
       "      <td>1</td>\n",
       "      <td>0.228669</td>\n",
       "      <td>food</td>\n",
       "      <td>586000.0</td>\n",
       "      <td>13290</td>\n",
       "      <td>54</td>\n",
       "    </tr>\n",
       "    <tr>\n",
       "      <td>3</td>\n",
       "      <td>1000125153834388186</td>\n",
       "      <td>4696475929912495191</td>\n",
       "      <td>1133000</td>\n",
       "      <td>1</td>\n",
       "      <td>0.656812</td>\n",
       "      <td>fnb</td>\n",
       "      <td>1725000.0</td>\n",
       "      <td>13291</td>\n",
       "      <td>281</td>\n",
       "    </tr>\n",
       "    <tr>\n",
       "      <td>4</td>\n",
       "      <td>1000125153834388186</td>\n",
       "      <td>7435641053063427914</td>\n",
       "      <td>75000</td>\n",
       "      <td>1</td>\n",
       "      <td>0.043478</td>\n",
       "      <td>cvs</td>\n",
       "      <td>1725000.0</td>\n",
       "      <td>13291</td>\n",
       "      <td>456</td>\n",
       "    </tr>\n",
       "    <tr>\n",
       "      <td>...</td>\n",
       "      <td>...</td>\n",
       "      <td>...</td>\n",
       "      <td>...</td>\n",
       "      <td>...</td>\n",
       "      <td>...</td>\n",
       "      <td>...</td>\n",
       "      <td>...</td>\n",
       "      <td>...</td>\n",
       "      <td>...</td>\n",
       "    </tr>\n",
       "    <tr>\n",
       "      <td>724864</td>\n",
       "      <td>999967723811113076</td>\n",
       "      <td>6683159578094575932</td>\n",
       "      <td>176000</td>\n",
       "      <td>1</td>\n",
       "      <td>0.095496</td>\n",
       "      <td>cvs</td>\n",
       "      <td>1843000.0</td>\n",
       "      <td>13288</td>\n",
       "      <td>404</td>\n",
       "    </tr>\n",
       "    <tr>\n",
       "      <td>724865</td>\n",
       "      <td>999983852027909885</td>\n",
       "      <td>1161222413519607568</td>\n",
       "      <td>164000</td>\n",
       "      <td>1</td>\n",
       "      <td>0.224044</td>\n",
       "      <td>fnb</td>\n",
       "      <td>732000.0</td>\n",
       "      <td>13289</td>\n",
       "      <td>70</td>\n",
       "    </tr>\n",
       "    <tr>\n",
       "      <td>724866</td>\n",
       "      <td>999983852027909885</td>\n",
       "      <td>1519391066364067495</td>\n",
       "      <td>393000</td>\n",
       "      <td>1</td>\n",
       "      <td>0.536885</td>\n",
       "      <td>fnb</td>\n",
       "      <td>732000.0</td>\n",
       "      <td>13289</td>\n",
       "      <td>96</td>\n",
       "    </tr>\n",
       "    <tr>\n",
       "      <td>724867</td>\n",
       "      <td>999983852027909885</td>\n",
       "      <td>7217455669218222351</td>\n",
       "      <td>46000</td>\n",
       "      <td>1</td>\n",
       "      <td>0.062842</td>\n",
       "      <td>beverage</td>\n",
       "      <td>732000.0</td>\n",
       "      <td>13289</td>\n",
       "      <td>438</td>\n",
       "    </tr>\n",
       "    <tr>\n",
       "      <td>724868</td>\n",
       "      <td>999983852027909885</td>\n",
       "      <td>7435641053063427914</td>\n",
       "      <td>129000</td>\n",
       "      <td>1</td>\n",
       "      <td>0.176230</td>\n",
       "      <td>cvs</td>\n",
       "      <td>732000.0</td>\n",
       "      <td>13289</td>\n",
       "      <td>456</td>\n",
       "    </tr>\n",
       "  </tbody>\n",
       "</table>\n",
       "<p>681812 rows × 9 columns</p>\n",
       "</div>"
      ],
      "text/plain": [
       "                    user_id           service_id   amount  visit_count  \\\n",
       "0       1000121902738565702  6624136956482465650   385000            1   \n",
       "1       1000121902738565702  7241075282237721387    67000            1   \n",
       "2       1000121902738565702   922770840377832605   134000            1   \n",
       "3       1000125153834388186  4696475929912495191  1133000            1   \n",
       "4       1000125153834388186  7435641053063427914    75000            1   \n",
       "...                     ...                  ...      ...          ...   \n",
       "724864   999967723811113076  6683159578094575932   176000            1   \n",
       "724865   999983852027909885  1161222413519607568   164000            1   \n",
       "724866   999983852027909885  1519391066364067495   393000            1   \n",
       "724867   999983852027909885  7217455669218222351    46000            1   \n",
       "724868   999983852027909885  7435641053063427914   129000            1   \n",
       "\n",
       "           favor service_group  total_amount  user_code  service_code  \n",
       "0       0.656997           fnb      586000.0      13290           401  \n",
       "1       0.114334           cvs      586000.0      13290           440  \n",
       "2       0.228669          food      586000.0      13290            54  \n",
       "3       0.656812           fnb     1725000.0      13291           281  \n",
       "4       0.043478           cvs     1725000.0      13291           456  \n",
       "...          ...           ...           ...        ...           ...  \n",
       "724864  0.095496           cvs     1843000.0      13288           404  \n",
       "724865  0.224044           fnb      732000.0      13289            70  \n",
       "724866  0.536885           fnb      732000.0      13289            96  \n",
       "724867  0.062842      beverage      732000.0      13289           438  \n",
       "724868  0.176230           cvs      732000.0      13289           456  \n",
       "\n",
       "[681812 rows x 9 columns]"
      ]
     },
     "execution_count": 10,
     "metadata": {},
     "output_type": "execute_result"
    }
   ],
   "source": [
    "data_food"
   ]
  },
  {
   "cell_type": "code",
   "execution_count": 11,
   "metadata": {
    "colab": {},
    "colab_type": "code",
    "id": "Rh97Gf4-QSFR"
   },
   "outputs": [
    {
     "name": "stdout",
     "output_type": "stream",
     "text": [
      "123241\n",
      "546\n"
     ]
    }
   ],
   "source": [
    "n_user = int(data_food['user_code'].max())\n",
    "print(n_user)\n",
    "n_service = int(data_food['service_code'].max())\n",
    "print(n_service)\n",
    "n_dim = 128"
   ]
  },
  {
   "cell_type": "code",
   "execution_count": 12,
   "metadata": {
    "colab": {},
    "colab_type": "code",
    "id": "6Xna-QoxQSFX"
   },
   "outputs": [
    {
     "name": "stdout",
     "output_type": "stream",
     "text": [
      "WARNING:tensorflow:From /home/hgn/.local/lib/python3.5/site-packages/tensorflow/python/keras/initializers.py:119: calling RandomUniform.__init__ (from tensorflow.python.ops.init_ops) with dtype is deprecated and will be removed in a future version.\n",
      "Instructions for updating:\n",
      "Call initializer instance with the dtype argument instead of passing it to the constructor\n"
     ]
    }
   ],
   "source": [
    "user_in, u = EmbeddedInput('user_in', n_user, n_dim, 1e-4)\n",
    "service_in, s = EmbeddedInput('service_in', n_service, n_dim, 1e-4)\n",
    "\n",
    "# user_in, u = EmbeddedInput('user_in', n_user, n_dim, 1e-4)\n",
    "# service_in, s = EmbeddedInput('service_in', n_service, n_dim, 1e-4)"
   ]
  },
  {
   "cell_type": "code",
   "execution_count": 13,
   "metadata": {
    "colab": {},
    "colab_type": "code",
    "id": "AJCBFTlfQSFe",
    "scrolled": true
   },
   "outputs": [
    {
     "name": "stdout",
     "output_type": "stream",
     "text": [
      "WARNING:tensorflow:From /home/hgn/.local/lib/python3.5/site-packages/tensorflow/python/ops/init_ops.py:1251: calling VarianceScaling.__init__ (from tensorflow.python.ops.init_ops) with dtype is deprecated and will be removed in a future version.\n",
      "Instructions for updating:\n",
      "Call initializer instance with the dtype argument instead of passing it to the constructor\n"
     ]
    }
   ],
   "source": [
    "# x = Concatenate()([u, s])\n",
    "# x = Flatten()(x)\n",
    "x = Dot(1, normalize=True)([u, s])\n",
    "x = Flatten()(x)\n",
    "x = Dense(32, activation='relu')(x)\n",
    "x = Dense(16, activation='relu')(x)\n",
    "x = Dense(1)(x)\n",
    "nn = Model([user_in, service_in], x)\n",
    "nn.compile(Adam(0.0005), loss='mse')"
   ]
  },
  {
   "cell_type": "code",
   "execution_count": 14,
   "metadata": {
    "colab": {},
    "colab_type": "code",
    "id": "m34aHvVtQSFl"
   },
   "outputs": [],
   "source": [
    "data_food[data_food['visit_count'] == 1]\n",
    "X_train, X_test, y_train, y_test = train_test_split(data_food[['user_code', 'service_code']], data_food['favor'],\n",
    "                                                    test_size=TRAIN_TEST_SIZE,\n",
    "                                                    random_state=TRAIN_RANDOM_STATE)"
   ]
  },
  {
   "cell_type": "code",
   "execution_count": 15,
   "metadata": {
    "colab": {},
    "colab_type": "code",
    "id": "fsLs1w-xQSFp",
    "scrolled": false
   },
   "outputs": [
    {
     "name": "stdout",
     "output_type": "stream",
     "text": [
      "Train on 477268 samples, validate on 204544 samples\n",
      "WARNING:tensorflow:From /home/hgn/.local/lib/python3.5/site-packages/tensorflow/python/ops/math_grad.py:1250: add_dispatch_support.<locals>.wrapper (from tensorflow.python.ops.array_ops) is deprecated and will be removed in a future version.\n",
      "Instructions for updating:\n",
      "Use tf.where in 2.0, which has the same broadcast rule as np.where\n",
      "477268/477268 [==============================] - 507s 1ms/sample - loss: 0.2788 - val_loss: 0.3043\n"
     ]
    }
   ],
   "source": [
    "if TRAIN_TRIGGER is True:\n",
    "    nn.fit([X_train['user_code'], X_train['service_code']], y_train,\n",
    "          validation_data=([X_test['user_code'], X_test['service_code']], y_test),\n",
    "          epochs=TRAIN_EPOCHS)"
   ]
  },
  {
   "cell_type": "markdown",
   "metadata": {
    "colab_type": "text",
    "id": "_iHVXfUQQSFx"
   },
   "source": [
    "**Save model to file**"
   ]
  },
  {
   "cell_type": "code",
   "execution_count": 16,
   "metadata": {
    "colab": {},
    "colab_type": "code",
    "id": "sXxqmkR3QSFy"
   },
   "outputs": [],
   "source": [
    "now = datetime.now()\n",
    "filename = './data/Model_test.h5'\n",
    "nn.save(filename)\n",
    "\n",
    "del nn"
   ]
  },
  {
   "cell_type": "code",
   "execution_count": 17,
   "metadata": {},
   "outputs": [],
   "source": [
    "# save file to use later\n",
    "with open('./data/usercode2id.dict', 'wb') as usercode2idfile:\n",
    "    pickle.dump(usercode2id, usercode2idfile)\n",
    "with open('./data/servicecode2id.dict', 'wb') as servicecode2idfile:\n",
    "    pickle.dump(servicecode2id, servicecode2idfile)\n",
    "with open('./data/userid2code.dict', 'wb') as userid2codefile:\n",
    "    pickle.dump(userid2code, userid2codefile)\n",
    "with open('./data/serviceid2code.dict', 'wb') as serviceid2codefile:\n",
    "    pickle.dump(serviceid2code, serviceid2codefile)"
   ]
  }
 ],
 "metadata": {
  "accelerator": "GPU",
  "colab": {
   "collapsed_sections": [],
   "name": "Training.ipynb",
   "private_outputs": true,
   "provenance": [],
   "version": "0.3.2"
  },
  "kernelspec": {
   "display_name": "Python 3",
   "language": "python",
   "name": "python3"
  },
  "language_info": {
   "codemirror_mode": {
    "name": "ipython",
    "version": 3
   },
   "file_extension": ".py",
   "mimetype": "text/x-python",
   "name": "python",
   "nbconvert_exporter": "python",
   "pygments_lexer": "ipython3",
   "version": "3.5.3"
  }
 },
 "nbformat": 4,
 "nbformat_minor": 1
}
