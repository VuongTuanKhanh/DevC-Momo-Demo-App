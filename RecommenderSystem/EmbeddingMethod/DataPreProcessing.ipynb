{
 "cells": [
  {
   "cell_type": "code",
   "execution_count": 1,
   "metadata": {},
   "outputs": [],
   "source": [
    "import numpy as np\n",
    "import pandas as pd\n",
    "import seaborn as sns\n",
    "import pickle\n",
    "import re\n",
    "# import unidecode"
   ]
  },
  {
   "cell_type": "markdown",
   "metadata": {},
   "source": [
    "# Merchants"
   ]
  },
  {
   "cell_type": "code",
   "execution_count": 2,
   "metadata": {
    "scrolled": false
   },
   "outputs": [],
   "source": [
    "merchants = pd.read_csv('./merchants.csv')"
   ]
  },
  {
   "cell_type": "code",
   "execution_count": 3,
   "metadata": {
    "scrolled": false
   },
   "outputs": [
    {
     "data": {
      "text/plain": [
       "fnb                               636\n",
       "food                              629\n",
       "cvs                               567\n",
       "beverage                          564\n",
       "other offline payment services    227\n",
       "supermarket                       113\n",
       "shopping                           37\n",
       "other offlinepayment                1\n",
       "Name: service_group, dtype: int64"
      ]
     },
     "execution_count": 3,
     "metadata": {},
     "output_type": "execute_result"
    }
   ],
   "source": [
    "merchants.service_group.value_counts()"
   ]
  },
  {
   "cell_type": "code",
   "execution_count": 4,
   "metadata": {},
   "outputs": [],
   "source": [
    "merchants.loc[merchants['service_group'] == 'other offlinepayment', 'service_group'] = 'other'\n",
    "merchants.loc[merchants['service_group'] == 'other offline payment services', 'service_group'] = 'other'"
   ]
  },
  {
   "cell_type": "code",
   "execution_count": 5,
   "metadata": {
    "scrolled": true
   },
   "outputs": [],
   "source": [
    "merchants['service_id'] = merchants['service_id'].astype(str)\n",
    "merchants['store_id'] = merchants['store_id'].astype(str)\n",
    "merchants['unique_id'] = merchants['service_id'] + '-' + merchants['store_id']"
   ]
  },
  {
   "cell_type": "code",
   "execution_count": 6,
   "metadata": {},
   "outputs": [],
   "source": [
    "merchants.drop_duplicates(subset='unique_id', keep='last');"
   ]
  },
  {
   "cell_type": "code",
   "execution_count": 7,
   "metadata": {},
   "outputs": [],
   "source": [
    "merchants.service_group.fillna('other', inplace=True);"
   ]
  },
  {
   "cell_type": "code",
   "execution_count": 8,
   "metadata": {
    "scrolled": true
   },
   "outputs": [
    {
     "data": {
      "text/html": [
       "<div>\n",
       "<style scoped>\n",
       "    .dataframe tbody tr th:only-of-type {\n",
       "        vertical-align: middle;\n",
       "    }\n",
       "\n",
       "    .dataframe tbody tr th {\n",
       "        vertical-align: top;\n",
       "    }\n",
       "\n",
       "    .dataframe thead th {\n",
       "        text-align: right;\n",
       "    }\n",
       "</style>\n",
       "<table border=\"1\" class=\"dataframe\">\n",
       "  <thead>\n",
       "    <tr style=\"text-align: right;\">\n",
       "      <th></th>\n",
       "      <th>service_id</th>\n",
       "      <th>store_id</th>\n",
       "      <th>service_group</th>\n",
       "      <th>merchant_name</th>\n",
       "      <th>merchant_address</th>\n",
       "      <th>store_name</th>\n",
       "      <th>store_address</th>\n",
       "      <th>store_longitude</th>\n",
       "      <th>store_latitude</th>\n",
       "      <th>unique_id</th>\n",
       "    </tr>\n",
       "  </thead>\n",
       "  <tbody>\n",
       "    <tr>\n",
       "      <td>0</td>\n",
       "      <td>1058241667815469540</td>\n",
       "      <td>249887925492461203</td>\n",
       "      <td>other</td>\n",
       "      <td>CÔNG TY CP TMDV TVTK THỜI TRANG VIỆT</td>\n",
       "      <td>189A Hai Bà Trưng , P.6, Quận 3 TPHCM</td>\n",
       "      <td>Concept Nguyễn Trãi Cần Thơ</td>\n",
       "      <td>41-41A-43 Nguyễn Trãi, Q. Ninh Kiều, Cần Thơ</td>\n",
       "      <td>105.785046</td>\n",
       "      <td>10.040508</td>\n",
       "      <td>1058241667815469540-249887925492461203</td>\n",
       "    </tr>\n",
       "    <tr>\n",
       "      <td>1</td>\n",
       "      <td>1058241667815469540</td>\n",
       "      <td>6272474026035536581</td>\n",
       "      <td>other</td>\n",
       "      <td>CÔNG TY CP TMDV TVTK THỜI TRANG VIỆT</td>\n",
       "      <td>189A Hai Bà Trưng , P.6, Quận 3 TPHCM</td>\n",
       "      <td>Concept Hậu Giang</td>\n",
       "      <td>Số 410 Hậu Giang, Phường 12, Quận 6, Tp. HCM</td>\n",
       "      <td>106.638935</td>\n",
       "      <td>10.749251</td>\n",
       "      <td>1058241667815469540-6272474026035536581</td>\n",
       "    </tr>\n",
       "    <tr>\n",
       "      <td>2</td>\n",
       "      <td>8073873840719601655</td>\n",
       "      <td>2217087971996193230</td>\n",
       "      <td>beverage</td>\n",
       "      <td>HỘ KINH DOANH - QUÁCH THỊ HƯƠNG DUYÊN</td>\n",
       "      <td>444 Hoàng Văn Thụ, Phường 2, Quận Tân Bình, Th...</td>\n",
       "      <td>Sharetea Hoàng Văn Thụ</td>\n",
       "      <td>444 Hoàng Văn Thụ, Phường 4, Quận Tân Bình, Th...</td>\n",
       "      <td>106.655742</td>\n",
       "      <td>10.795501</td>\n",
       "      <td>8073873840719601655-2217087971996193230</td>\n",
       "    </tr>\n",
       "    <tr>\n",
       "      <td>3</td>\n",
       "      <td>1058241667815469540</td>\n",
       "      <td>7296552596579579660</td>\n",
       "      <td>other</td>\n",
       "      <td>CÔNG TY CP TMDV TVTK THỜI TRANG VIỆT</td>\n",
       "      <td>189A Hai Bà Trưng , P.6, Quận 3 TPHCM</td>\n",
       "      <td>Concept Cách Mạng tháng 8 HCM</td>\n",
       "      <td>Số 484 - 486 Cách Mạng Tháng Tám, Phường 11, Q...</td>\n",
       "      <td>106.668518</td>\n",
       "      <td>10.784919</td>\n",
       "      <td>1058241667815469540-7296552596579579660</td>\n",
       "    </tr>\n",
       "    <tr>\n",
       "      <td>4</td>\n",
       "      <td>1058241667815469540</td>\n",
       "      <td>4707467693322385152</td>\n",
       "      <td>other</td>\n",
       "      <td>CÔNG TY CP TMDV TVTK THỜI TRANG VIỆT</td>\n",
       "      <td>189A Hai Bà Trưng , P.6, Quận 3 TPHCM</td>\n",
       "      <td>Concept Vạnh Hạnh Mall</td>\n",
       "      <td>TTTM,Số 11 Sư Vạn Hạnh, Đường 3/2, Phường 12, ...</td>\n",
       "      <td>106.669971</td>\n",
       "      <td>10.769976</td>\n",
       "      <td>1058241667815469540-4707467693322385152</td>\n",
       "    </tr>\n",
       "    <tr>\n",
       "      <td>...</td>\n",
       "      <td>...</td>\n",
       "      <td>...</td>\n",
       "      <td>...</td>\n",
       "      <td>...</td>\n",
       "      <td>...</td>\n",
       "      <td>...</td>\n",
       "      <td>...</td>\n",
       "      <td>...</td>\n",
       "      <td>...</td>\n",
       "      <td>...</td>\n",
       "    </tr>\n",
       "    <tr>\n",
       "      <td>2968</td>\n",
       "      <td>6808347026108568574</td>\n",
       "      <td>6484164205001681137</td>\n",
       "      <td>food</td>\n",
       "      <td>CÔNG TY TNHH DỊCH VỤ THỰC PHẨM VÀ GIẢI KHÁT VI...</td>\n",
       "      <td>Lầu 5, tòa nhà Sài Gòn Royal, 91 Pasteur, P. B...</td>\n",
       "      <td>POPEYES DƯƠNG BÁ TRẠC</td>\n",
       "      <td>222 - 228  Dương Bá Trạc, Phường 2, Quận 8, Th...</td>\n",
       "      <td>106.6891098</td>\n",
       "      <td>10.7462651</td>\n",
       "      <td>6808347026108568574-6484164205001681137</td>\n",
       "    </tr>\n",
       "    <tr>\n",
       "      <td>2969</td>\n",
       "      <td>6808347026108568574</td>\n",
       "      <td>1503822611323068711</td>\n",
       "      <td>food</td>\n",
       "      <td>CÔNG TY TNHH DỊCH VỤ THỰC PHẨM VÀ GIẢI KHÁT VI...</td>\n",
       "      <td>Lầu 5, tòa nhà Sài Gòn Royal, 91 Pasteur, P. B...</td>\n",
       "      <td>POPEYES NGUYỄN BỈNH KHIÊM</td>\n",
       "      <td>58/13  Nguyễn Bỉnh Khiêm, Phường Đa Kao, Quận ...</td>\n",
       "      <td>106.6992663</td>\n",
       "      <td>10.7927827</td>\n",
       "      <td>6808347026108568574-1503822611323068711</td>\n",
       "    </tr>\n",
       "    <tr>\n",
       "      <td>2970</td>\n",
       "      <td>6808347026108568574</td>\n",
       "      <td>7294991517476066382</td>\n",
       "      <td>food</td>\n",
       "      <td>CÔNG TY TNHH DỊCH VỤ THỰC PHẨM VÀ GIẢI KHÁT VI...</td>\n",
       "      <td>Lầu 5, tòa nhà Sài Gòn Royal, 91 Pasteur, P. B...</td>\n",
       "      <td>POPEYES NGUYỄN THỊ THẬP</td>\n",
       "      <td>332 Nguyễn Thị Thập, Phường Tân Quy, Quận 7, T...</td>\n",
       "      <td>106.7049147</td>\n",
       "      <td>10.739731</td>\n",
       "      <td>6808347026108568574-7294991517476066382</td>\n",
       "    </tr>\n",
       "    <tr>\n",
       "      <td>2971</td>\n",
       "      <td>6808347026108568574</td>\n",
       "      <td>6091305737323984244</td>\n",
       "      <td>food</td>\n",
       "      <td>CÔNG TY TNHH DỊCH VỤ THỰC PHẨM VÀ GIẢI KHÁT VI...</td>\n",
       "      <td>Lầu 5, tòa nhà Sài Gòn Royal, 91 Pasteur, P. B...</td>\n",
       "      <td>POPEYES PHÚ MỸ HƯNG</td>\n",
       "      <td>62 Nguyễn Đức Cảnh, Phường Tân Phong, Quận 7, ...</td>\n",
       "      <td>106.708509</td>\n",
       "      <td>10.726551</td>\n",
       "      <td>6808347026108568574-6091305737323984244</td>\n",
       "    </tr>\n",
       "    <tr>\n",
       "      <td>2972</td>\n",
       "      <td>6808347026108568574</td>\n",
       "      <td>4226336408497841643</td>\n",
       "      <td>food</td>\n",
       "      <td>CÔNG TY TNHH DỊCH VỤ THỰC PHẨM VÀ GIẢI KHÁT VI...</td>\n",
       "      <td>Lầu 5, tòa nhà Sài Gòn Royal, 91 Pasteur, P. B...</td>\n",
       "      <td>POPEYES D2 BÌNH THẠNH</td>\n",
       "      <td>67 - 69 D2, Phường 25, Quận Bình Thạnh, Thành ...</td>\n",
       "      <td>106.7237359</td>\n",
       "      <td>10.8466516</td>\n",
       "      <td>6808347026108568574-4226336408497841643</td>\n",
       "    </tr>\n",
       "  </tbody>\n",
       "</table>\n",
       "<p>2973 rows × 10 columns</p>\n",
       "</div>"
      ],
      "text/plain": [
       "               service_id             store_id service_group  \\\n",
       "0     1058241667815469540   249887925492461203         other   \n",
       "1     1058241667815469540  6272474026035536581         other   \n",
       "2     8073873840719601655  2217087971996193230      beverage   \n",
       "3     1058241667815469540  7296552596579579660         other   \n",
       "4     1058241667815469540  4707467693322385152         other   \n",
       "...                   ...                  ...           ...   \n",
       "2968  6808347026108568574  6484164205001681137          food   \n",
       "2969  6808347026108568574  1503822611323068711          food   \n",
       "2970  6808347026108568574  7294991517476066382          food   \n",
       "2971  6808347026108568574  6091305737323984244          food   \n",
       "2972  6808347026108568574  4226336408497841643          food   \n",
       "\n",
       "                                          merchant_name  \\\n",
       "0                  CÔNG TY CP TMDV TVTK THỜI TRANG VIỆT   \n",
       "1                  CÔNG TY CP TMDV TVTK THỜI TRANG VIỆT   \n",
       "2                 HỘ KINH DOANH - QUÁCH THỊ HƯƠNG DUYÊN   \n",
       "3                  CÔNG TY CP TMDV TVTK THỜI TRANG VIỆT   \n",
       "4                  CÔNG TY CP TMDV TVTK THỜI TRANG VIỆT   \n",
       "...                                                 ...   \n",
       "2968  CÔNG TY TNHH DỊCH VỤ THỰC PHẨM VÀ GIẢI KHÁT VI...   \n",
       "2969  CÔNG TY TNHH DỊCH VỤ THỰC PHẨM VÀ GIẢI KHÁT VI...   \n",
       "2970  CÔNG TY TNHH DỊCH VỤ THỰC PHẨM VÀ GIẢI KHÁT VI...   \n",
       "2971  CÔNG TY TNHH DỊCH VỤ THỰC PHẨM VÀ GIẢI KHÁT VI...   \n",
       "2972  CÔNG TY TNHH DỊCH VỤ THỰC PHẨM VÀ GIẢI KHÁT VI...   \n",
       "\n",
       "                                       merchant_address  \\\n",
       "0                 189A Hai Bà Trưng , P.6, Quận 3 TPHCM   \n",
       "1                 189A Hai Bà Trưng , P.6, Quận 3 TPHCM   \n",
       "2     444 Hoàng Văn Thụ, Phường 2, Quận Tân Bình, Th...   \n",
       "3                 189A Hai Bà Trưng , P.6, Quận 3 TPHCM   \n",
       "4                 189A Hai Bà Trưng , P.6, Quận 3 TPHCM   \n",
       "...                                                 ...   \n",
       "2968  Lầu 5, tòa nhà Sài Gòn Royal, 91 Pasteur, P. B...   \n",
       "2969  Lầu 5, tòa nhà Sài Gòn Royal, 91 Pasteur, P. B...   \n",
       "2970  Lầu 5, tòa nhà Sài Gòn Royal, 91 Pasteur, P. B...   \n",
       "2971  Lầu 5, tòa nhà Sài Gòn Royal, 91 Pasteur, P. B...   \n",
       "2972  Lầu 5, tòa nhà Sài Gòn Royal, 91 Pasteur, P. B...   \n",
       "\n",
       "                         store_name  \\\n",
       "0       Concept Nguyễn Trãi Cần Thơ   \n",
       "1                 Concept Hậu Giang   \n",
       "2            Sharetea Hoàng Văn Thụ   \n",
       "3     Concept Cách Mạng tháng 8 HCM   \n",
       "4            Concept Vạnh Hạnh Mall   \n",
       "...                             ...   \n",
       "2968          POPEYES DƯƠNG BÁ TRẠC   \n",
       "2969      POPEYES NGUYỄN BỈNH KHIÊM   \n",
       "2970        POPEYES NGUYỄN THỊ THẬP   \n",
       "2971            POPEYES PHÚ MỸ HƯNG   \n",
       "2972          POPEYES D2 BÌNH THẠNH   \n",
       "\n",
       "                                          store_address store_longitude  \\\n",
       "0          41-41A-43 Nguyễn Trãi, Q. Ninh Kiều, Cần Thơ      105.785046   \n",
       "1          Số 410 Hậu Giang, Phường 12, Quận 6, Tp. HCM      106.638935   \n",
       "2     444 Hoàng Văn Thụ, Phường 4, Quận Tân Bình, Th...      106.655742   \n",
       "3     Số 484 - 486 Cách Mạng Tháng Tám, Phường 11, Q...      106.668518   \n",
       "4     TTTM,Số 11 Sư Vạn Hạnh, Đường 3/2, Phường 12, ...      106.669971   \n",
       "...                                                 ...             ...   \n",
       "2968  222 - 228  Dương Bá Trạc, Phường 2, Quận 8, Th...     106.6891098   \n",
       "2969  58/13  Nguyễn Bỉnh Khiêm, Phường Đa Kao, Quận ...     106.6992663   \n",
       "2970  332 Nguyễn Thị Thập, Phường Tân Quy, Quận 7, T...     106.7049147   \n",
       "2971  62 Nguyễn Đức Cảnh, Phường Tân Phong, Quận 7, ...      106.708509   \n",
       "2972  67 - 69 D2, Phường 25, Quận Bình Thạnh, Thành ...     106.7237359   \n",
       "\n",
       "     store_latitude                                unique_id  \n",
       "0         10.040508   1058241667815469540-249887925492461203  \n",
       "1         10.749251  1058241667815469540-6272474026035536581  \n",
       "2         10.795501  8073873840719601655-2217087971996193230  \n",
       "3         10.784919  1058241667815469540-7296552596579579660  \n",
       "4         10.769976  1058241667815469540-4707467693322385152  \n",
       "...             ...                                      ...  \n",
       "2968     10.7462651  6808347026108568574-6484164205001681137  \n",
       "2969     10.7927827  6808347026108568574-1503822611323068711  \n",
       "2970      10.739731  6808347026108568574-7294991517476066382  \n",
       "2971      10.726551  6808347026108568574-6091305737323984244  \n",
       "2972     10.8466516  6808347026108568574-4226336408497841643  \n",
       "\n",
       "[2973 rows x 10 columns]"
      ]
     },
     "execution_count": 8,
     "metadata": {},
     "output_type": "execute_result"
    }
   ],
   "source": [
    "merchants"
   ]
  },
  {
   "cell_type": "code",
   "execution_count": 9,
   "metadata": {},
   "outputs": [],
   "source": [
    "merchants['modified_service'] = merchants['service_id']"
   ]
  },
  {
   "cell_type": "code",
   "execution_count": 10,
   "metadata": {},
   "outputs": [],
   "source": [
    "merchants.loc[(merchants['service_id'] == '4522620599497170471') & merchants['store_name'].str.lower().str.contains('gogi'), 'modified_service'] = '4522620599497170471-Gogi'\n",
    "merchants.loc[(merchants['service_id'] == '4522620599497170471') & merchants['store_name'].str.lower().str.contains('kichi'), 'modified_service'] = '4522620599497170471-Kichi'\n",
    "merchants.loc[(merchants['service_id'] == '4522620599497170471') & merchants['store_name'].str.lower().str.contains('manwah'), 'modified_service'] = '4522620599497170471-Manwah'\n",
    "merchants.loc[(merchants['service_id'] == '4522620599497170471') & merchants['store_name'].str.lower().str.contains('sumo'), 'modified_service'] = '4522620599497170471-Sumo'\n",
    "merchants.loc[(merchants['service_id'] == '4522620599497170471') & merchants['store_name'].str.lower().str.contains('hutong'), 'modified_service'] = '4522620599497170471-Hutong'\n",
    "merchants.loc[(merchants['service_id'] == '4522620599497170471') & merchants['store_name'].str.lower().str.contains('ashima'), 'modified_service'] = '4522620599497170471-Ashima'\n",
    "merchants.loc[(merchants['service_id'] == '4522620599497170471') & merchants['store_name'].str.lower().str.contains('yutang'), 'modified_service'] = '4522620599497170471-Yutang'\n",
    "merchants.loc[(merchants['service_id'] == '4522620599497170471') & merchants['store_name'].str.lower().str.contains('crystal'), 'modified_service'] = '4522620599497170471-Crystal'\n",
    "merchants.loc[(merchants['service_id'] == '4522620599497170471') & merchants['store_name'].str.lower().str.contains('cowboy'), 'modified_service'] = '4522620599497170471-Cowboy'\n",
    "merchants.loc[(merchants['service_id'] == '4522620599497170471') & merchants['store_name'].str.lower().str.contains('37'), 'modified_service'] = '4522620599497170471-37thStreet'\n",
    "merchants.loc[(merchants['service_id'] == '4522620599497170471') & merchants['store_name'].str.lower().str.contains('osaka'), 'modified_service'] = '4522620599497170471-Osaka'\n",
    "merchants.loc[(merchants['service_id'] == '4522620599497170471') & merchants['store_name'].str.lower().str.contains('isushi'), 'modified_service'] = '4522620599497170471-Isushi'\n",
    "merchants.loc[(merchants['service_id'] == '4522620599497170471') & merchants['store_name'].str.lower().str.contains('k-pub'), 'modified_service'] = '4522620599497170471-KPub'\n",
    "merchants.loc[(merchants['service_id'] == '4522620599497170471') & merchants['store_name'].str.lower().str.contains('kpub'), 'modified_service'] = '4522620599497170471-KPub'\n",
    "merchants.loc[(merchants['service_id'] == '4522620599497170471') & merchants['store_name'].str.lower().str.contains('vuvuzela'), 'modified_service'] = '4522620599497170471-Vuvuzela'\n",
    "merchants.loc[(merchants['service_id'] == '4522620599497170471') & merchants['store_name'].str.lower().str.contains('daruma'), 'modified_service'] = '4522620599497170471-Daruma'\n",
    "merchants.loc[(merchants['service_id'] == '4522620599497170471') & merchants['store_name'].str.lower().str.contains('shogun'), 'modified_service'] = '4522620599497170471-Shogun'"
   ]
  },
  {
   "cell_type": "markdown",
   "metadata": {},
   "source": [
    "# Transactions"
   ]
  },
  {
   "cell_type": "code",
   "execution_count": 11,
   "metadata": {},
   "outputs": [],
   "source": [
    "transactions = pd.read_csv('./transactions.csv')"
   ]
  },
  {
   "cell_type": "code",
   "execution_count": 12,
   "metadata": {},
   "outputs": [],
   "source": [
    "transactions['user_id'] = transactions['user_id'].astype(str)\n",
    "transactions['service_id'] = transactions['service_id'].astype(str)\n",
    "transactions['store_id'] = transactions['store_id'].astype(str)\n",
    "transactions['unique_id'] = transactions['service_id'] + '-' + transactions['store_id']\n",
    "# transactions = transactions[['user_id', 'unique_id', 'amount']]"
   ]
  },
  {
   "cell_type": "code",
   "execution_count": 13,
   "metadata": {
    "scrolled": true
   },
   "outputs": [
    {
     "name": "stdout",
     "output_type": "stream",
     "text": [
      "<class 'pandas.core.frame.DataFrame'>\n",
      "RangeIndex: 1008720 entries, 0 to 1008719\n",
      "Data columns (total 6 columns):\n",
      "timestamp     1008720 non-null int64\n",
      "user_id       1008720 non-null object\n",
      "service_id    1008720 non-null object\n",
      "store_id      1008720 non-null object\n",
      "amount        1008720 non-null int64\n",
      "unique_id     1008720 non-null object\n",
      "dtypes: int64(2), object(4)\n",
      "memory usage: 46.2+ MB\n"
     ]
    }
   ],
   "source": [
    "transactions.info()"
   ]
  },
  {
   "cell_type": "code",
   "execution_count": 14,
   "metadata": {},
   "outputs": [
    {
     "name": "stdout",
     "output_type": "stream",
     "text": [
      "<class 'pandas.core.frame.DataFrame'>\n",
      "Int64Index: 1008720 entries, 0 to 1008719\n",
      "Data columns (total 7 columns):\n",
      "timestamp           1008720 non-null int64\n",
      "user_id             1008720 non-null object\n",
      "service_id          1008720 non-null object\n",
      "store_id            1008720 non-null object\n",
      "amount              1008720 non-null int64\n",
      "unique_id           1008720 non-null object\n",
      "modified_service    1008720 non-null object\n",
      "dtypes: int64(2), object(5)\n",
      "memory usage: 61.6+ MB\n"
     ]
    }
   ],
   "source": [
    "transactions['unique_id'] = transactions['service_id'] + '-' + transactions['store_id']\n",
    "transactions = transactions.merge(merchants[['unique_id', 'modified_service']], how='left')\n",
    "transactions.loc[transactions['modified_service'].isna(), 'modified_service'] = transactions.loc[transactions['modified_service'].isna(), 'service_id']\n",
    "transactions['service_id'] = transactions['modified_service']\n",
    "transactions.info()"
   ]
  },
  {
   "cell_type": "code",
   "execution_count": 15,
   "metadata": {},
   "outputs": [],
   "source": [
    "transactions2train = transactions.drop(columns = ['timestamp'])\n",
    "df_count = transactions2train.groupby(['user_id', 'service_id', 'store_id', 'unique_id'], as_index=False).count()\n",
    "df_mean = transactions2train.groupby(['user_id', 'service_id'], as_index=False).sum()\n",
    "df_mean['visit_count'] = df_count['amount']\n",
    "transactions2train = df_mean"
   ]
  },
  {
   "cell_type": "code",
   "execution_count": 16,
   "metadata": {
    "scrolled": false
   },
   "outputs": [
    {
     "data": {
      "text/html": [
       "<div>\n",
       "<style scoped>\n",
       "    .dataframe tbody tr th:only-of-type {\n",
       "        vertical-align: middle;\n",
       "    }\n",
       "\n",
       "    .dataframe tbody tr th {\n",
       "        vertical-align: top;\n",
       "    }\n",
       "\n",
       "    .dataframe thead th {\n",
       "        text-align: right;\n",
       "    }\n",
       "</style>\n",
       "<table border=\"1\" class=\"dataframe\">\n",
       "  <thead>\n",
       "    <tr style=\"text-align: right;\">\n",
       "      <th></th>\n",
       "      <th>user_id</th>\n",
       "      <th>service_id</th>\n",
       "      <th>amount</th>\n",
       "      <th>visit_count</th>\n",
       "    </tr>\n",
       "  </thead>\n",
       "  <tbody>\n",
       "    <tr>\n",
       "      <td>0</td>\n",
       "      <td>1000121902738565702</td>\n",
       "      <td>6624136956482465650</td>\n",
       "      <td>385000</td>\n",
       "      <td>1</td>\n",
       "    </tr>\n",
       "    <tr>\n",
       "      <td>1</td>\n",
       "      <td>1000121902738565702</td>\n",
       "      <td>7241075282237721387</td>\n",
       "      <td>67000</td>\n",
       "      <td>1</td>\n",
       "    </tr>\n",
       "    <tr>\n",
       "      <td>2</td>\n",
       "      <td>1000121902738565702</td>\n",
       "      <td>922770840377832605</td>\n",
       "      <td>134000</td>\n",
       "      <td>1</td>\n",
       "    </tr>\n",
       "    <tr>\n",
       "      <td>3</td>\n",
       "      <td>1000125153834388186</td>\n",
       "      <td>4696475929912495191</td>\n",
       "      <td>1133000</td>\n",
       "      <td>1</td>\n",
       "    </tr>\n",
       "    <tr>\n",
       "      <td>4</td>\n",
       "      <td>1000125153834388186</td>\n",
       "      <td>7435641053063427914</td>\n",
       "      <td>75000</td>\n",
       "      <td>1</td>\n",
       "    </tr>\n",
       "    <tr>\n",
       "      <td>...</td>\n",
       "      <td>...</td>\n",
       "      <td>...</td>\n",
       "      <td>...</td>\n",
       "      <td>...</td>\n",
       "    </tr>\n",
       "    <tr>\n",
       "      <td>724949</td>\n",
       "      <td>999967723811113076</td>\n",
       "      <td>6683159578094575932</td>\n",
       "      <td>176000</td>\n",
       "      <td>1</td>\n",
       "    </tr>\n",
       "    <tr>\n",
       "      <td>724950</td>\n",
       "      <td>999983852027909885</td>\n",
       "      <td>1161222413519607568</td>\n",
       "      <td>164000</td>\n",
       "      <td>1</td>\n",
       "    </tr>\n",
       "    <tr>\n",
       "      <td>724951</td>\n",
       "      <td>999983852027909885</td>\n",
       "      <td>1519391066364067495</td>\n",
       "      <td>393000</td>\n",
       "      <td>1</td>\n",
       "    </tr>\n",
       "    <tr>\n",
       "      <td>724952</td>\n",
       "      <td>999983852027909885</td>\n",
       "      <td>7217455669218222351</td>\n",
       "      <td>46000</td>\n",
       "      <td>1</td>\n",
       "    </tr>\n",
       "    <tr>\n",
       "      <td>724953</td>\n",
       "      <td>999983852027909885</td>\n",
       "      <td>7435641053063427914</td>\n",
       "      <td>129000</td>\n",
       "      <td>2</td>\n",
       "    </tr>\n",
       "  </tbody>\n",
       "</table>\n",
       "<p>724954 rows × 4 columns</p>\n",
       "</div>"
      ],
      "text/plain": [
       "                    user_id           service_id   amount  visit_count\n",
       "0       1000121902738565702  6624136956482465650   385000            1\n",
       "1       1000121902738565702  7241075282237721387    67000            1\n",
       "2       1000121902738565702   922770840377832605   134000            1\n",
       "3       1000125153834388186  4696475929912495191  1133000            1\n",
       "4       1000125153834388186  7435641053063427914    75000            1\n",
       "...                     ...                  ...      ...          ...\n",
       "724949   999967723811113076  6683159578094575932   176000            1\n",
       "724950   999983852027909885  1161222413519607568   164000            1\n",
       "724951   999983852027909885  1519391066364067495   393000            1\n",
       "724952   999983852027909885  7217455669218222351    46000            1\n",
       "724953   999983852027909885  7435641053063427914   129000            2\n",
       "\n",
       "[724954 rows x 4 columns]"
      ]
     },
     "execution_count": 16,
     "metadata": {},
     "output_type": "execute_result"
    }
   ],
   "source": [
    "transactions2train"
   ]
  },
  {
   "cell_type": "code",
   "execution_count": 17,
   "metadata": {},
   "outputs": [],
   "source": [
    "df_total_sum = transactions.groupby('user_id', as_index=False).sum()[['user_id', 'amount']]\n",
    "df_total_sum = df_total_sum.rename(columns={'amount':'total_amount'})\n",
    "transactions2train = transactions2train.merge(df_total_sum, how='left')\n",
    "transactions2train['favor'] = transactions2train['amount'] / transactions2train['total_amount']\n",
    "transactions2train = transactions2train[~((transactions2train['favor'] == 1) & (transactions2train['visit_count'] == 1))]\n"
   ]
  },
  {
   "cell_type": "code",
   "execution_count": 18,
   "metadata": {},
   "outputs": [
    {
     "name": "stdout",
     "output_type": "stream",
     "text": [
      "<class 'pandas.core.frame.DataFrame'>\n",
      "Int64Index: 707380 entries, 0 to 724953\n",
      "Data columns (total 6 columns):\n",
      "user_id         707380 non-null object\n",
      "service_id      707380 non-null object\n",
      "amount          707380 non-null int64\n",
      "visit_count     707380 non-null int64\n",
      "total_amount    707380 non-null int64\n",
      "favor           707380 non-null float64\n",
      "dtypes: float64(1), int64(3), object(2)\n",
      "memory usage: 37.8+ MB\n"
     ]
    }
   ],
   "source": [
    "transactions2train.info()"
   ]
  },
  {
   "cell_type": "code",
   "execution_count": 19,
   "metadata": {},
   "outputs": [
    {
     "name": "stdout",
     "output_type": "stream",
     "text": [
      "<class 'pandas.core.frame.DataFrame'>\n",
      "Int64Index: 647032 entries, 6 to 724953\n",
      "Data columns (total 6 columns):\n",
      "user_id         647032 non-null object\n",
      "service_id      647032 non-null object\n",
      "amount          647032 non-null int64\n",
      "visit_count     647032 non-null int64\n",
      "total_amount    647032 non-null int64\n",
      "favor           647032 non-null float64\n",
      "dtypes: float64(1), int64(3), object(2)\n",
      "memory usage: 34.6+ MB\n"
     ]
    }
   ],
   "source": [
    "df_total_sum = transactions2train.groupby('user_id', as_index=False).sum()[['user_id', 'visit_count']]\n",
    "new_user = df_total_sum[df_total_sum['visit_count'] < 4]['user_id'].to_list()\n",
    "transactions2train = transactions2train[~transactions2train['user_id'].isin(new_user)]\n",
    "transactions2train.info()"
   ]
  },
  {
   "cell_type": "code",
   "execution_count": 20,
   "metadata": {},
   "outputs": [],
   "source": [
    "df_total_median = transactions2train.groupby('service_id', as_index=False).median()[['service_id', 'amount']]\n",
    "df_total_median = df_total_median.rename(columns={'amount':'avr_amount'})\n",
    "transactions2train = transactions2train.merge(df_total_median, how='left')"
   ]
  },
  {
   "cell_type": "code",
   "execution_count": 21,
   "metadata": {
    "scrolled": true
   },
   "outputs": [
    {
     "data": {
      "text/html": [
       "<div>\n",
       "<style scoped>\n",
       "    .dataframe tbody tr th:only-of-type {\n",
       "        vertical-align: middle;\n",
       "    }\n",
       "\n",
       "    .dataframe tbody tr th {\n",
       "        vertical-align: top;\n",
       "    }\n",
       "\n",
       "    .dataframe thead th {\n",
       "        text-align: right;\n",
       "    }\n",
       "</style>\n",
       "<table border=\"1\" class=\"dataframe\">\n",
       "  <thead>\n",
       "    <tr style=\"text-align: right;\">\n",
       "      <th></th>\n",
       "      <th>user_id</th>\n",
       "      <th>service_id</th>\n",
       "      <th>amount</th>\n",
       "      <th>visit_count</th>\n",
       "      <th>total_amount</th>\n",
       "      <th>favor</th>\n",
       "      <th>avr_amount</th>\n",
       "    </tr>\n",
       "  </thead>\n",
       "  <tbody>\n",
       "    <tr>\n",
       "      <td>0</td>\n",
       "      <td>100016064118164634</td>\n",
       "      <td>1564697347935602136</td>\n",
       "      <td>170000</td>\n",
       "      <td>1</td>\n",
       "      <td>2845000</td>\n",
       "      <td>0.059754</td>\n",
       "      <td>198000.0</td>\n",
       "    </tr>\n",
       "    <tr>\n",
       "      <td>1</td>\n",
       "      <td>100016064118164634</td>\n",
       "      <td>1643362567822364399</td>\n",
       "      <td>1469000</td>\n",
       "      <td>1</td>\n",
       "      <td>2845000</td>\n",
       "      <td>0.516344</td>\n",
       "      <td>188000.0</td>\n",
       "    </tr>\n",
       "    <tr>\n",
       "      <td>2</td>\n",
       "      <td>100016064118164634</td>\n",
       "      <td>3891264094863370703</td>\n",
       "      <td>554000</td>\n",
       "      <td>1</td>\n",
       "      <td>2845000</td>\n",
       "      <td>0.194728</td>\n",
       "      <td>213000.0</td>\n",
       "    </tr>\n",
       "    <tr>\n",
       "      <td>3</td>\n",
       "      <td>100016064118164634</td>\n",
       "      <td>521630549682136336</td>\n",
       "      <td>238000</td>\n",
       "      <td>1</td>\n",
       "      <td>2845000</td>\n",
       "      <td>0.083656</td>\n",
       "      <td>203000.0</td>\n",
       "    </tr>\n",
       "    <tr>\n",
       "      <td>4</td>\n",
       "      <td>100016064118164634</td>\n",
       "      <td>6808347026108568574</td>\n",
       "      <td>24000</td>\n",
       "      <td>1</td>\n",
       "      <td>2845000</td>\n",
       "      <td>0.008436</td>\n",
       "      <td>168500.0</td>\n",
       "    </tr>\n",
       "  </tbody>\n",
       "</table>\n",
       "</div>"
      ],
      "text/plain": [
       "              user_id           service_id   amount  visit_count  \\\n",
       "0  100016064118164634  1564697347935602136   170000            1   \n",
       "1  100016064118164634  1643362567822364399  1469000            1   \n",
       "2  100016064118164634  3891264094863370703   554000            1   \n",
       "3  100016064118164634   521630549682136336   238000            1   \n",
       "4  100016064118164634  6808347026108568574    24000            1   \n",
       "\n",
       "   total_amount     favor  avr_amount  \n",
       "0       2845000  0.059754    198000.0  \n",
       "1       2845000  0.516344    188000.0  \n",
       "2       2845000  0.194728    213000.0  \n",
       "3       2845000  0.083656    203000.0  \n",
       "4       2845000  0.008436    168500.0  "
      ]
     },
     "execution_count": 21,
     "metadata": {},
     "output_type": "execute_result"
    }
   ],
   "source": [
    "transactions2train.head()"
   ]
  },
  {
   "cell_type": "code",
   "execution_count": 22,
   "metadata": {},
   "outputs": [],
   "source": [
    "transactions2train['rating'] = 0\n",
    "transactions2train.loc[transactions2train['visit_count'] > 2, 'rating'] = 1\n",
    "# transactions2train.loc[transactions2train['favor'] > 0.12, 'rating'] = 1\n",
    "transactions2train.loc[transactions2train['amount'] > (1.1*transactions2train['avr_amount']), 'rating'] = 1"
   ]
  },
  {
   "cell_type": "code",
   "execution_count": 23,
   "metadata": {
    "scrolled": true
   },
   "outputs": [
    {
     "data": {
      "text/plain": [
       "0    325537\n",
       "1    321495\n",
       "Name: rating, dtype: int64"
      ]
     },
     "execution_count": 23,
     "metadata": {},
     "output_type": "execute_result"
    }
   ],
   "source": [
    "transactions2train.rating.value_counts()"
   ]
  },
  {
   "cell_type": "code",
   "execution_count": 24,
   "metadata": {},
   "outputs": [
    {
     "name": "stdout",
     "output_type": "stream",
     "text": [
      "647032\n",
      "646945\n"
     ]
    }
   ],
   "source": [
    "# For transaction with 0 amount, use the visit_count (pay 1VND per visit)\n",
    "# transactions2train.loc[transactions2train.amount == 0, 'amount'] = transactions2train.loc[transactions2train.amount == 0, 'visit_count']\n",
    "print(len(transactions2train.index))\n",
    "transactions2train = transactions2train[~(transactions2train['amount'] == 0)]\n",
    "print(len(transactions2train.index))"
   ]
  },
  {
   "cell_type": "code",
   "execution_count": 25,
   "metadata": {},
   "outputs": [],
   "source": [
    "# Remove CircleK, Ministop from training list\n",
    "transactions2train = transactions2train[~(transactions2train['service_id'] == '7241075282237721387')] #CircleK HCM\n",
    "transactions2train = transactions2train[~(transactions2train['service_id'] == '7435641053063427914')] #CircleK HN\n",
    "transactions2train = transactions2train[~(transactions2train['service_id'] == '6683159578094575932')] #Ministop\n",
    "transactions2train = transactions2train[~(transactions2train['service_id'] == '1560616255241742510')] #COOP Smile"
   ]
  },
  {
   "cell_type": "code",
   "execution_count": 26,
   "metadata": {},
   "outputs": [
    {
     "data": {
      "text/plain": [
       "Index(['7241075282237721387', '4522620599497170471', '7435641053063427914',\n",
       "       '6683159578094575932', '754456615597202420', '1560616255241742510',\n",
       "       '8556496424374803715', '8421950360944077064', '7341550893129842017',\n",
       "       '3797980347767515401',\n",
       "       ...\n",
       "       '1551153095406971249', '9090494937141424170', '7260637975327411002',\n",
       "       '1161222413519607568', '8091499565413936348', '7697129851354317938',\n",
       "       '8852348163950164423', '1962645878451483174', '7608564882640589084',\n",
       "       '1336715627616364946'],\n",
       "      dtype='object', length=521)"
      ]
     },
     "execution_count": 26,
     "metadata": {},
     "output_type": "execute_result"
    }
   ],
   "source": [
    "merchants['service_id'].value_counts().index"
   ]
  },
  {
   "cell_type": "code",
   "execution_count": 27,
   "metadata": {},
   "outputs": [
    {
     "data": {
      "text/html": [
       "<div>\n",
       "<style scoped>\n",
       "    .dataframe tbody tr th:only-of-type {\n",
       "        vertical-align: middle;\n",
       "    }\n",
       "\n",
       "    .dataframe tbody tr th {\n",
       "        vertical-align: top;\n",
       "    }\n",
       "\n",
       "    .dataframe thead th {\n",
       "        text-align: right;\n",
       "    }\n",
       "</style>\n",
       "<table border=\"1\" class=\"dataframe\">\n",
       "  <thead>\n",
       "    <tr style=\"text-align: right;\">\n",
       "      <th></th>\n",
       "      <th>service_id</th>\n",
       "      <th>store_id</th>\n",
       "      <th>service_group</th>\n",
       "      <th>merchant_name</th>\n",
       "      <th>merchant_address</th>\n",
       "      <th>store_name</th>\n",
       "      <th>store_address</th>\n",
       "      <th>store_longitude</th>\n",
       "      <th>store_latitude</th>\n",
       "      <th>unique_id</th>\n",
       "      <th>modified_service</th>\n",
       "    </tr>\n",
       "  </thead>\n",
       "  <tbody>\n",
       "    <tr>\n",
       "      <td>1185</td>\n",
       "      <td>3797980347767515401</td>\n",
       "      <td>7545571613182674920</td>\n",
       "      <td>beverage</td>\n",
       "      <td>Trung Nguyên Legend</td>\n",
       "      <td>82-84 Bùi Thị Xuân, P. Bến Thành, Quận 1, Tp H...</td>\n",
       "      <td>HAN-03 Ngô Quyền</td>\n",
       "      <td>03 Ngô Quyền, Phường Lý Thái Tổ, Quận Hoàn K...</td>\n",
       "      <td>105.856524</td>\n",
       "      <td>21.028872</td>\n",
       "      <td>3797980347767515401-7545571613182674920</td>\n",
       "      <td>3797980347767515401</td>\n",
       "    </tr>\n",
       "    <tr>\n",
       "      <td>1186</td>\n",
       "      <td>3797980347767515401</td>\n",
       "      <td>2440630623436602500</td>\n",
       "      <td>beverage</td>\n",
       "      <td>Trung Nguyên Legend</td>\n",
       "      <td>82-84 Bùi Thị Xuân, P. Bến Thành, Quận 1, Tp H...</td>\n",
       "      <td>HCM-A43Trường Sơn Super Bowl</td>\n",
       "      <td>TTTM Super Bowl, 43A Trường Sơn, Phường 4, Quậ...</td>\n",
       "      <td>106.664468</td>\n",
       "      <td>10.808755</td>\n",
       "      <td>3797980347767515401-2440630623436602500</td>\n",
       "      <td>3797980347767515401</td>\n",
       "    </tr>\n",
       "    <tr>\n",
       "      <td>1187</td>\n",
       "      <td>3797980347767515401</td>\n",
       "      <td>6904923281322080881</td>\n",
       "      <td>beverage</td>\n",
       "      <td>Trung Nguyên Legend</td>\n",
       "      <td>82-84 Bùi Thị Xuân, P. Bến Thành, Quận 1, Tp H...</td>\n",
       "      <td>HCM-249 Hoàng Vặn Thụ</td>\n",
       "      <td>249A Hoàng Văn Thụ, Phường 1, Quận Tân Bình, T...</td>\n",
       "      <td>106.665636</td>\n",
       "      <td>10.800275</td>\n",
       "      <td>3797980347767515401-6904923281322080881</td>\n",
       "      <td>3797980347767515401</td>\n",
       "    </tr>\n",
       "    <tr>\n",
       "      <td>1188</td>\n",
       "      <td>3797980347767515401</td>\n",
       "      <td>2383637357578839773</td>\n",
       "      <td>beverage</td>\n",
       "      <td>Trung Nguyên Legend</td>\n",
       "      <td>82-84 Bùi Thị Xuân, P. Bến Thành, Quận 1, Tp H...</td>\n",
       "      <td>HCM-The Botanica Phổ Quang</td>\n",
       "      <td>104 Phổ Quang, Phường 2, Quận Tân Bình, Thành ...</td>\n",
       "      <td>106.668670</td>\n",
       "      <td>10.808585</td>\n",
       "      <td>3797980347767515401-2383637357578839773</td>\n",
       "      <td>3797980347767515401</td>\n",
       "    </tr>\n",
       "    <tr>\n",
       "      <td>1189</td>\n",
       "      <td>3797980347767515401</td>\n",
       "      <td>5527989640073787344</td>\n",
       "      <td>beverage</td>\n",
       "      <td>Trung Nguyên Legend</td>\n",
       "      <td>82-84 Bùi Thị Xuân, P. Bến Thành, Quận 1, Tp H...</td>\n",
       "      <td>Nhà sách PN Nguyễn Oanh</td>\n",
       "      <td>03 Nguyễn Oanh, Phường 10, Quận Gò Vấp, Thành ...</td>\n",
       "      <td>106.676269</td>\n",
       "      <td>10.835753</td>\n",
       "      <td>3797980347767515401-5527989640073787344</td>\n",
       "      <td>3797980347767515401</td>\n",
       "    </tr>\n",
       "    <tr>\n",
       "      <td>...</td>\n",
       "      <td>...</td>\n",
       "      <td>...</td>\n",
       "      <td>...</td>\n",
       "      <td>...</td>\n",
       "      <td>...</td>\n",
       "      <td>...</td>\n",
       "      <td>...</td>\n",
       "      <td>...</td>\n",
       "      <td>...</td>\n",
       "      <td>...</td>\n",
       "      <td>...</td>\n",
       "    </tr>\n",
       "    <tr>\n",
       "      <td>1250</td>\n",
       "      <td>3797980347767515401</td>\n",
       "      <td>740624531884540961</td>\n",
       "      <td>beverage</td>\n",
       "      <td>Trung Nguyên Legend</td>\n",
       "      <td>82-84 Bùi Thị Xuân, P. Bến Thành, Quận 1, Tp H...</td>\n",
       "      <td>Nhà sách PN Aeon mall BD</td>\n",
       "      <td>Lô 19 tầng trệt, TT mua sắm Aeon BD Canar Đại ...</td>\n",
       "      <td>106.711333</td>\n",
       "      <td>10.930882</td>\n",
       "      <td>3797980347767515401-740624531884540961</td>\n",
       "      <td>3797980347767515401</td>\n",
       "    </tr>\n",
       "    <tr>\n",
       "      <td>1251</td>\n",
       "      <td>3797980347767515401</td>\n",
       "      <td>5555233042688006348</td>\n",
       "      <td>beverage</td>\n",
       "      <td>Trung Nguyên Legend</td>\n",
       "      <td>82-84 Bùi Thị Xuân, P. Bến Thành, Quận 1, Tp H...</td>\n",
       "      <td>HCM-272 Xô Viết Nghệ Tĩnh</td>\n",
       "      <td>272 Xô Viết Nghệ Tĩnh, Phường 25, Quận Bình Th...</td>\n",
       "      <td>106.711775</td>\n",
       "      <td>10.801938</td>\n",
       "      <td>3797980347767515401-5555233042688006348</td>\n",
       "      <td>3797980347767515401</td>\n",
       "    </tr>\n",
       "    <tr>\n",
       "      <td>1252</td>\n",
       "      <td>3797980347767515401</td>\n",
       "      <td>7156002124187807173</td>\n",
       "      <td>beverage</td>\n",
       "      <td>Trung Nguyên Legend</td>\n",
       "      <td>82-84 Bùi Thị Xuân, P. Bến Thành, Quận 1, Tp H...</td>\n",
       "      <td>HCM - FSoft Khu CNC Q9</td>\n",
       "      <td>Toà nhà Ftown Khu công nghệ cao, Phường Tân Ph...</td>\n",
       "      <td>106.797885</td>\n",
       "      <td>10.850987</td>\n",
       "      <td>3797980347767515401-7156002124187807173</td>\n",
       "      <td>3797980347767515401</td>\n",
       "    </tr>\n",
       "    <tr>\n",
       "      <td>1253</td>\n",
       "      <td>3797980347767515401</td>\n",
       "      <td>930781199008083665</td>\n",
       "      <td>beverage</td>\n",
       "      <td>Trung Nguyên Legend</td>\n",
       "      <td>82-84 Bùi Thị Xuân, P. Bến Thành, Quận 1, Tp H...</td>\n",
       "      <td>KHA-148 Võ Trứ</td>\n",
       "      <td>148 Võ Trứ, Phường Tân Lập, Thành phố Nha Tran...</td>\n",
       "      <td>109.192203</td>\n",
       "      <td>12.240503</td>\n",
       "      <td>3797980347767515401-930781199008083665</td>\n",
       "      <td>3797980347767515401</td>\n",
       "    </tr>\n",
       "    <tr>\n",
       "      <td>1254</td>\n",
       "      <td>3797980347767515401</td>\n",
       "      <td>3797560856528722052</td>\n",
       "      <td>beverage</td>\n",
       "      <td>Trung Nguyên Legend</td>\n",
       "      <td>82-84 Bùi Thị Xuân, P. Bến Thành, Quận 1, Tp H...</td>\n",
       "      <td>KHA-48 Nguyễn Bỉnh Khiêm</td>\n",
       "      <td>48 Nguyễn Bỉnh Khiêm (Nhà nghỉ dưỡng 378 Bộ Cô...</td>\n",
       "      <td>109.196605</td>\n",
       "      <td>12.256678</td>\n",
       "      <td>3797980347767515401-3797560856528722052</td>\n",
       "      <td>3797980347767515401</td>\n",
       "    </tr>\n",
       "  </tbody>\n",
       "</table>\n",
       "<p>70 rows × 11 columns</p>\n",
       "</div>"
      ],
      "text/plain": [
       "               service_id             store_id service_group  \\\n",
       "1185  3797980347767515401  7545571613182674920      beverage   \n",
       "1186  3797980347767515401  2440630623436602500      beverage   \n",
       "1187  3797980347767515401  6904923281322080881      beverage   \n",
       "1188  3797980347767515401  2383637357578839773      beverage   \n",
       "1189  3797980347767515401  5527989640073787344      beverage   \n",
       "...                   ...                  ...           ...   \n",
       "1250  3797980347767515401   740624531884540961      beverage   \n",
       "1251  3797980347767515401  5555233042688006348      beverage   \n",
       "1252  3797980347767515401  7156002124187807173      beverage   \n",
       "1253  3797980347767515401   930781199008083665      beverage   \n",
       "1254  3797980347767515401  3797560856528722052      beverage   \n",
       "\n",
       "            merchant_name                                   merchant_address  \\\n",
       "1185  Trung Nguyên Legend  82-84 Bùi Thị Xuân, P. Bến Thành, Quận 1, Tp H...   \n",
       "1186  Trung Nguyên Legend  82-84 Bùi Thị Xuân, P. Bến Thành, Quận 1, Tp H...   \n",
       "1187  Trung Nguyên Legend  82-84 Bùi Thị Xuân, P. Bến Thành, Quận 1, Tp H...   \n",
       "1188  Trung Nguyên Legend  82-84 Bùi Thị Xuân, P. Bến Thành, Quận 1, Tp H...   \n",
       "1189  Trung Nguyên Legend  82-84 Bùi Thị Xuân, P. Bến Thành, Quận 1, Tp H...   \n",
       "...                   ...                                                ...   \n",
       "1250  Trung Nguyên Legend  82-84 Bùi Thị Xuân, P. Bến Thành, Quận 1, Tp H...   \n",
       "1251  Trung Nguyên Legend  82-84 Bùi Thị Xuân, P. Bến Thành, Quận 1, Tp H...   \n",
       "1252  Trung Nguyên Legend  82-84 Bùi Thị Xuân, P. Bến Thành, Quận 1, Tp H...   \n",
       "1253  Trung Nguyên Legend  82-84 Bùi Thị Xuân, P. Bến Thành, Quận 1, Tp H...   \n",
       "1254  Trung Nguyên Legend  82-84 Bùi Thị Xuân, P. Bến Thành, Quận 1, Tp H...   \n",
       "\n",
       "                        store_name  \\\n",
       "1185              HAN-03 Ngô Quyền   \n",
       "1186  HCM-A43Trường Sơn Super Bowl   \n",
       "1187         HCM-249 Hoàng Vặn Thụ   \n",
       "1188    HCM-The Botanica Phổ Quang   \n",
       "1189       Nhà sách PN Nguyễn Oanh   \n",
       "...                            ...   \n",
       "1250      Nhà sách PN Aeon mall BD   \n",
       "1251     HCM-272 Xô Viết Nghệ Tĩnh   \n",
       "1252        HCM - FSoft Khu CNC Q9   \n",
       "1253                KHA-148 Võ Trứ   \n",
       "1254      KHA-48 Nguyễn Bỉnh Khiêm   \n",
       "\n",
       "                                          store_address store_longitude  \\\n",
       "1185  03 Ngô Quyền, Phường Lý Thái Tổ, Quận Hoàn K...      105.856524   \n",
       "1186  TTTM Super Bowl, 43A Trường Sơn, Phường 4, Quậ...      106.664468   \n",
       "1187  249A Hoàng Văn Thụ, Phường 1, Quận Tân Bình, T...      106.665636   \n",
       "1188  104 Phổ Quang, Phường 2, Quận Tân Bình, Thành ...      106.668670   \n",
       "1189  03 Nguyễn Oanh, Phường 10, Quận Gò Vấp, Thành ...      106.676269   \n",
       "...                                                 ...             ...   \n",
       "1250  Lô 19 tầng trệt, TT mua sắm Aeon BD Canar Đại ...      106.711333   \n",
       "1251  272 Xô Viết Nghệ Tĩnh, Phường 25, Quận Bình Th...      106.711775   \n",
       "1252  Toà nhà Ftown Khu công nghệ cao, Phường Tân Ph...      106.797885   \n",
       "1253  148 Võ Trứ, Phường Tân Lập, Thành phố Nha Tran...      109.192203   \n",
       "1254  48 Nguyễn Bỉnh Khiêm (Nhà nghỉ dưỡng 378 Bộ Cô...      109.196605   \n",
       "\n",
       "     store_latitude                                unique_id  \\\n",
       "1185      21.028872  3797980347767515401-7545571613182674920   \n",
       "1186      10.808755  3797980347767515401-2440630623436602500   \n",
       "1187      10.800275  3797980347767515401-6904923281322080881   \n",
       "1188      10.808585  3797980347767515401-2383637357578839773   \n",
       "1189      10.835753  3797980347767515401-5527989640073787344   \n",
       "...             ...                                      ...   \n",
       "1250      10.930882   3797980347767515401-740624531884540961   \n",
       "1251      10.801938  3797980347767515401-5555233042688006348   \n",
       "1252      10.850987  3797980347767515401-7156002124187807173   \n",
       "1253      12.240503   3797980347767515401-930781199008083665   \n",
       "1254      12.256678  3797980347767515401-3797560856528722052   \n",
       "\n",
       "         modified_service  \n",
       "1185  3797980347767515401  \n",
       "1186  3797980347767515401  \n",
       "1187  3797980347767515401  \n",
       "1188  3797980347767515401  \n",
       "1189  3797980347767515401  \n",
       "...                   ...  \n",
       "1250  3797980347767515401  \n",
       "1251  3797980347767515401  \n",
       "1252  3797980347767515401  \n",
       "1253  3797980347767515401  \n",
       "1254  3797980347767515401  \n",
       "\n",
       "[70 rows x 11 columns]"
      ]
     },
     "execution_count": 27,
     "metadata": {},
     "output_type": "execute_result"
    }
   ],
   "source": [
    "merchants[merchants['service_id'] == '3797980347767515401']"
   ]
  },
  {
   "cell_type": "markdown",
   "metadata": {},
   "source": [
    "## Encoding service id and user id"
   ]
  },
  {
   "cell_type": "code",
   "execution_count": 28,
   "metadata": {
    "scrolled": false
   },
   "outputs": [],
   "source": [
    "merchants_service_cat = merchants[['service_id', 'service_group']].drop_duplicates(subset=['service_id'])\n",
    "transactions2train = transactions2train.merge(merchants_service_cat, how='left')\n",
    "transactions2train.fillna('other', inplace=True)"
   ]
  },
  {
   "cell_type": "code",
   "execution_count": 29,
   "metadata": {},
   "outputs": [],
   "source": [
    "# create map to convert from code to id and vice versal\n",
    "usercode2id = transactions2train['user_id'].astype('category')\n",
    "usercode2id = dict(enumerate(usercode2id.cat.categories))\n",
    "servicecode2id = transactions2train['service_id'].astype('category')\n",
    "servicecode2id = dict(enumerate(servicecode2id.cat.categories))\n",
    "userid2code = dict(map(reversed, usercode2id.items()))\n",
    "serviceid2code = dict(map(reversed, servicecode2id.items()))\n",
    "\n",
    "# create code columns\n",
    "transactions2train['user_code'] = transactions2train['user_id'].astype('category').cat.codes\n",
    "transactions2train['service_code'] = transactions2train['service_id'].astype('category').cat.codes\n",
    "\n",
    "# save file to use later\n",
    "with open('./data/usercode2id.dict', 'wb') as usercode2idfile:\n",
    "    pickle.dump(usercode2id, usercode2idfile)\n",
    "with open('./data/servicecode2id.dict', 'wb') as servicecode2idfile:\n",
    "    pickle.dump(servicecode2id, servicecode2idfile)\n",
    "with open('./data/userid2code.dict', 'wb') as userid2codefile:\n",
    "    pickle.dump(userid2code, userid2codefile)\n",
    "with open('./data/serviceid2code.dict', 'wb') as serviceid2codefile:\n",
    "    pickle.dump(serviceid2code, serviceid2codefile)"
   ]
  },
  {
   "cell_type": "markdown",
   "metadata": {},
   "source": [
    "## Save csv"
   ]
  },
  {
   "cell_type": "code",
   "execution_count": 30,
   "metadata": {},
   "outputs": [],
   "source": [
    "transactions2train.to_csv('./data/transactions2train.csv')"
   ]
  },
  {
   "cell_type": "code",
   "execution_count": 31,
   "metadata": {},
   "outputs": [],
   "source": [
    "merchants.to_csv('./data/modified_merchants.csv')"
   ]
  },
  {
   "cell_type": "markdown",
   "metadata": {},
   "source": [
    "# Recheck data"
   ]
  },
  {
   "cell_type": "code",
   "execution_count": 38,
   "metadata": {
    "scrolled": true
   },
   "outputs": [],
   "source": [
    "merchants.service_id.unique();"
   ]
  },
  {
   "cell_type": "code",
   "execution_count": 39,
   "metadata": {
    "scrolled": true
   },
   "outputs": [],
   "source": [
    "transactions2train.service_id.unique();"
   ]
  },
  {
   "cell_type": "code",
   "execution_count": 43,
   "metadata": {},
   "outputs": [],
   "source": [
    "notTrainList = list(set(merchants.service_id.unique()) - set(transactions2train.service_id.unique()))"
   ]
  },
  {
   "cell_type": "code",
   "execution_count": 46,
   "metadata": {},
   "outputs": [],
   "source": [
    "with open('./data/nottrain.dict', 'wb') as file:\n",
    "    pickle.dump(notTrainList, file)"
   ]
  }
 ],
 "metadata": {
  "kernelspec": {
   "display_name": "Python 3",
   "language": "python",
   "name": "python3"
  },
  "language_info": {
   "codemirror_mode": {
    "name": "ipython",
    "version": 3
   },
   "file_extension": ".py",
   "mimetype": "text/x-python",
   "name": "python",
   "nbconvert_exporter": "python",
   "pygments_lexer": "ipython3",
   "version": "3.5.3"
  }
 },
 "nbformat": 4,
 "nbformat_minor": 2
}
